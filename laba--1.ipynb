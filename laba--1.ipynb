{
 "metadata": {
  "language_info": {
   "codemirror_mode": {
    "name": "ipython",
    "version": 3
   },
   "file_extension": ".py",
   "mimetype": "text/x-python",
   "name": "python",
   "nbconvert_exporter": "python",
   "pygments_lexer": "ipython3",
   "version": "3.9.2"
  },
  "orig_nbformat": 2,
  "kernelspec": {
   "name": "python392jvsc74a57bd0311928590338b98a50e9267111050262cd48f87d72174feb4c6d15b1e8ef4889",
   "display_name": "Python 3.9.2 64-bit"
  },
  "metadata": {
   "interpreter": {
    "hash": "311928590338b98a50e9267111050262cd48f87d72174feb4c6d15b1e8ef4889"
   }
  }
 },
 "nbformat": 4,
 "nbformat_minor": 2,
 "cells": [
  {
   "source": [
    "Напишите скрипт, который преобразует введенное с клавиатуры вещественное число в денежный формат. \n",
    "Например, число 12,5 должно быть преобразовано к виду «12 руб. 50 коп.». \n",
    "В случае ввода отрицательного числа выдайте сообщение «Некорректный формат!» путем обработки исключения в коде.Напишите скрипт, который преобразует введенное с клавиатуры вещественное число в денежный формат."
   ],
   "cell_type": "markdown",
   "metadata": {}
  },
  {
   "cell_type": "code",
   "execution_count": 2,
   "metadata": {},
   "outputs": [
    {
     "output_type": "stream",
     "name": "stdout",
     "text": [
      "Введено не число!\n"
     ]
    }
   ],
   "source": [
    "x=input(\"Введите число: \")\n",
    "output = \"\"\n",
    "num = 0\n",
    "try:\n",
    "    num = float(x)\n",
    "except ValueError:\n",
    "    print(\"Введено не число!\")\n",
    "else:\n",
    "    if num < 0:\n",
    "        raise Exception(\"Некорректный формат!\")\n",
    "    else:\n",
    "        for i in input_string:\n",
    "            if i != '.':\n",
    "                output += i\n",
    "            else:\n",
    "                output += \" руб. \"\n",
    "                continue\n",
    "        try:\n",
    "            num = int(output)\n",
    "        except ValueError:\n",
    "            output += \" коп.\"\n",
    "        else:\n",
    "            output = num.__str__() + \" руб.\"\n",
    "        print(output)\n"
   ]
  },
  {
   "source": [
    "Написать скрипт, который выводит на экран «True», если элементы программно задаваемого списка представляют собой возрастающую последовательность, иначе – «False»."
   ],
   "cell_type": "markdown",
   "metadata": {}
  },
  {
   "cell_type": "code",
   "execution_count": 5,
   "metadata": {},
   "outputs": [
    {
     "output_type": "stream",
     "name": "stdout",
     "text": [
      "True\n"
     ]
    }
   ],
   "source": [
    "my_list=[0,1,2,3,4,5]\n",
    "check=True\n",
    "for i in range(len(my_list)):\n",
    "    if i==0:\n",
    "        continue\n",
    "    if my_list[i]>my_list[i-1]:\n",
    "        check=True\n",
    "    else:\n",
    "        check=False\n",
    "        break\n",
    "print(check)\n"
   ]
  },
  {
   "cell_type": "code",
   "execution_count": null,
   "metadata": {},
   "outputs": [],
   "source": [
    "Напишите скрипт, который позволяет ввести с клавиатуры номер дебетовой карты (16 цифр) и выводит номер в скрытом виде: первые и последние 4 цифры отображены нормально, а между ними – символы «*» (например, 5123 ** ** 1212)."
   ]
  },
  {
   "cell_type": "code",
   "execution_count": 28,
   "metadata": {},
   "outputs": [
    {
     "output_type": "stream",
     "name": "stdout",
     "text": [
      "1111 **** **** 1111 \n"
     ]
    }
   ],
   "source": [
    "num = input(\"Введите номер вашей карты: \")\n",
    "num = num.replace(\" \", \"\")\n",
    "output = \"\"\n",
    "check = 0\n",
    "if len(num) != 16:\n",
    "    raise Exception(\"Номер карты должен состоять из 16 цифр!\")\n",
    "try:\n",
    "    check = int(num)\n",
    "except ValueError:\n",
    "    print(\"Номер должен состоять только из цифр!\")\n",
    "else:\n",
    "    for i in range(len(num)):\n",
    "        if ((i >= 0 and i < 4) or (i >= 12 and i < 16)):\n",
    "            output += num[i]\n",
    "        else:\n",
    "            output += '*'\n",
    "        if (i + 1) % 4 == 0:\n",
    "            output += ' '\n",
    "    print(output)"
   ]
  },
  {
   "source": [
    "Напишите скрипт, который разделяет введенный с клавиатуры текст на слова и выводит сначала те слова, длина которых превосходит 7 символов, затем слова размером от 4 до 7 символов, затем – все остальные."
   ],
   "cell_type": "markdown",
   "metadata": {}
  },
  {
   "cell_type": "code",
   "execution_count": 55,
   "metadata": {},
   "outputs": [
    {
     "output_type": "error",
     "ename": "IndentationError",
     "evalue": "unexpected indent (<ipython-input-55-43ff4a8f5c6a>, line 3)",
     "traceback": [
      "\u001b[1;36m  File \u001b[1;32m\"<ipython-input-55-43ff4a8f5c6a>\"\u001b[1;36m, line \u001b[1;32m3\u001b[0m\n\u001b[1;33m    for i in words:\u001b[0m\n\u001b[1;37m    ^\u001b[0m\n\u001b[1;31mIndentationError\u001b[0m\u001b[1;31m:\u001b[0m unexpected indent\n"
     ]
    }
   ],
   "source": [
    "import re\n",
    "\n",
    "input_str = input(\"Введите текст:\\n\")\n",
    "words_array = re.findall('[a-zа-яё0-9]+', input_str, flags=re.IGNORECASE)\n",
    "print()\n",
    "for word in words_array:\n",
    "    if len(word) > 7:\n",
    "        print(word)\n",
    "print()\n",
    "for word in words_array:\n",
    "    if (len(word) >= 4 and len(word) <= 7):\n",
    "        print(word)\n",
    "print()\n",
    "for word in words_array:\n",
    "    if len(word) < 4:\n",
    "        print(word)\n",
    "    "
   ]
  },
  {
   "source": [
    "Напишите скрипт, который позволяет ввести с клавиатуры текст предложения и сформировать новую строку на основе исходной, в которой все слова, начинающиеся с большой буквы, приведены к верхнему регистру. Слова могут разделяться запятыми или пробелами. Например, если пользователь введет строку «город Донецк, река Кальмиус», результирующая строка должна выглядеть так: «город ДОНЕЦК, река КАЛЬМИУС»."
   ],
   "cell_type": "markdown",
   "metadata": {}
  },
  {
   "cell_type": "code",
   "execution_count": null,
   "metadata": {},
   "outputs": [],
   "source": [
    "import re\n",
    "\n",
    "input_str = input(\"Введите текст:\\n\")\n",
    "words_array = input_str.split()\n",
    "output = \"\"\n",
    "print()\n",
    "for word in words_array:\n",
    "    if word.istitle():\n",
    "        word = word.upper()\n",
    "    output += word + \" \"\n",
    "print(output)"
   ]
  },
  {
   "source": [
    "Напишите программу, позволяющую ввести с клавиатуры текст предложения и вывести на консоль все символы, которые входят в этот текст ровно по одному разу."
   ],
   "cell_type": "markdown",
   "metadata": {}
  },
  {
   "cell_type": "code",
   "execution_count": null,
   "metadata": {},
   "outputs": [],
   "source": [
    "input_str = input(\"Введите предложение:\\n\")\n",
    "output = \"\"\n",
    "print()\n",
    "for ch in input_str:\n",
    "    if ch not in output:\n",
    "        output += ch\n",
    "print(output)"
   ]
  },
  {
   "source": [
    "Напишите скрипт, который обрабатывает список строк-адресов следующим образом: сначала определяет, начинается ли каждая строка в списке с префикса «www». Если условие выполняется, то скрипт должен вставить в начало этой строки префикс «http://», а затем проверить, что строка заканчивается на «.com». Если у строки другое окончание, то скрипт должен вставить в конец подстроку «.com». В итоге скрипт должен вывести на консоль новый список с измененными адресами. Используйте генераторы списков."
   ],
   "cell_type": "markdown",
   "metadata": {}
  },
  {
   "cell_type": "code",
   "execution_count": null,
   "metadata": {},
   "outputs": [],
   "source": [
    "address_list = ['vk.com', 'www.ok.ru', 'telegram']\n",
    "new_list = [('http://' + address + '.com') for address in address_list if (address.startswith('www.') and address.endswith('.com') == False)]\n",
    "\n",
    "print(new_list)"
   ]
  },
  {
   "source": [
    "Напишите скрипт, генерирующий случайным образом число n в диапазоне от 1 до 10000. Скрипт должен создать массив из n целых чисел, также сгенерированных случайным образом, и дополнить массив нулями до размера, равного ближайшей сверху степени двойки. Например, если в массиве было n=100 элементов, то массив нужно дополнить 28 нулями, чтобы в итоге был массив из 2^8=128 элементов (ближайшая степень двойки к 100 – это число 128, к 35 – это 64 и т.д.)."
   ],
   "cell_type": "markdown",
   "metadata": {}
  },
  {
   "cell_type": "code",
   "execution_count": null,
   "metadata": {},
   "outputs": [],
   "source": [
    "import random\n",
    "\n",
    "n = random.randint(1, 10)\n",
    "additional_num = 0\n",
    "i = 0\n",
    "while True:\n",
    "    if 2 ** i - n > 0:\n",
    "        additional_num = 2 ** i\n",
    "        break\n",
    "    else:\n",
    "        i += 1\n",
    "arr = []\n",
    "for i in range(n):\n",
    "    arr.append(random.randint(1, 100))\n",
    "for i in range(additional_num):\n",
    "    arr.append(0)\n",
    "output = \"\"\n",
    "for i in arr:\n",
    "    output += i.__str__() + ' '\n",
    "print(n)\n",
    "print(additional_num)\n",
    "print(output)"
   ]
  },
  {
   "source": [
    "Напишите программу, имитирующую работу банкомата. Выберите структуру данных для хранения купюр разного достоинства в заданном количестве. При вводе пользователем запрашиваемой суммы денег, скрипт должен вывести на консоль количество купюр подходящего достоинства. Если имеющихся денег не хватает, то необходимо напечатать сообщение «Операция не может быть выполнена!». Например, при сумме 5370 рублей на консоль должно быть выведено «5*1000 + 3*100 + 1*50 + 2*10»."
   ],
   "cell_type": "markdown",
   "metadata": {}
  },
  {
   "cell_type": "code",
   "execution_count": null,
   "metadata": {},
   "outputs": [],
   "source": [
    "sum = input(\"Введите сумму: \")\n",
    "dc_bank = {1000: 6, 500: 3, 100: 4, 50: 3, 10: 7}\n",
    "result = []\n",
    "try:\n",
    "    money = int(sum)\n",
    "except ValueError:\n",
    "    print(\"Введены неверные данные\")\n",
    "else:\n",
    "    for key, value in dc_bank.items():\n",
    "        if money < key * value and value != 0:\n",
    "            value = money // key\n",
    "        elif value == 0:\n",
    "            continue\n",
    "        money -= key * value\n",
    "        if value != 0:\n",
    "            result.append((value, key))\n",
    "        dc_bank[key] = dc_bank.get(key) - value\n",
    "    if money == 0:\n",
    "        for i, j in result:\n",
    "            if result[len(result) - 1][1] == j:\n",
    "                print(f'{i}*{j}', end='')\n",
    "            else:\n",
    "                print(f'{i}*{j}', end=' + ')\n",
    "    else: \n",
    "        print('Операция не может быть выполнена!')"
   ]
  },
  {
   "source": [
    "Напишите скрипт, позволяющий определить надежность вводимого пользователем пароля. Это задание является творческим: алгоритм определения надежности разработайте самостоятельно."
   ],
   "cell_type": "markdown",
   "metadata": {}
  },
  {
   "cell_type": "code",
   "execution_count": null,
   "metadata": {},
   "outputs": [],
   "source": [
    "password = input(\"Введите пароль: \")\n",
    "pass_length = len(password)\n",
    "unique_chars = list(set(password))\n",
    "output = \"\"\n",
    "difficulty_counter = 0\n",
    "if any(map(str.islower, password)) and any(map(str.isupper, password)):\n",
    "    difficulty_counter += 1\n",
    "if any(map(str.isalpha, password)) and any(map(str.isdigit, password)):\n",
    "    difficulty_counter += 1\n",
    "if pass_length <= 5 and (difficulty_counter <= 1 or len(unique_chars) <= 5):\n",
    "    output = \"Слабый\"\n",
    "elif 6 <= pass_length <= 14 and (difficulty_counter >= 1 or len(unique_chars) >= 5):\n",
    "    output = \"Средний\"\n",
    "elif pass_length > 14 and (difficulty_counter == 2 or len(unique_chars) > 7):\n",
    "    output = \"Сложный\"\n",
    "print(output)"
   ]
  },
  {
   "source": [
    "Напишите генератор frange как аналог range() с дробным шагом. Пример вызова:\n",
    "for x in frange(1, 5, 0.1):\n",
    "\n",
    "print(x)\n",
    "\n",
    "// выводит 1 1.1 1.2 1.3 1.4 … 4.9"
   ],
   "cell_type": "markdown",
   "metadata": {}
  },
  {
   "source": [
    "def frange(_from, _to, _step):\n",
    "    while _from < _to - _step:\n",
    "        yield round(_from, 1)\n",
    "        _from += _step\n",
    "for x in  frange(1, 5, 0.1):\n",
    "    print(x, end = ' ')"
   ],
   "cell_type": "code",
   "metadata": {},
   "execution_count": null,
   "outputs": []
  },
  {
   "source": [
    "Напишите генератор get_frames(), который производит «оконную декомпозицию» сигнала: на основе входного списка генерирует набор списков – перекрывающихся отдельных фрагментов сигнала размера size со степенью перекрытия overlap. Пример вызова:\n",
    "for frame in get_frames(signal, size=1024, overlap=0.5):\n",
    "\n",
    "print(frame)"
   ],
   "cell_type": "markdown",
   "metadata": {}
  },
  {
   "cell_type": "code",
   "execution_count": null,
   "metadata": {},
   "outputs": [],
   "source": [
    "import math\n",
    "\n",
    "def get_frames(signal, size, overlap):\n",
    "    slice_signal = math.ceil(size * overlap)\n",
    "    start = 0\n",
    "    length = len(signal)\n",
    "    while (start < length):\n",
    "        if start == 0:\n",
    "            yield signal[:size]\n",
    "        else:\n",
    "            yield signal[start:start + size]\n",
    "        start += slice_signal\n",
    "\n",
    "arr = [1,2,3,4,5,6,7,8,9,10,11,12,13,14]\n",
    "for i in get_frames(arr, 4, 0.5):\n",
    "    print(i) "
   ]
  },
  {
   "source": [
    "Напишите собственную версию генератора enumerate под названием extra_enumerate. Пример вызова:\n",
    "for i, elem, cum, frac in extra_enumerate(x):\n",
    "\n",
    "print(elem, cum, frac)\n",
    "\n",
    "В переменной cum хранится накопленная сумма на момент текущей итерации, в переменной frac – доля накопленной суммы от общей суммы на момент текущей итерации.\n",
    "\n",
    "Например, для списка x=[ 1, 3, 4, 2 ] вывод будет таким:\n",
    "\n",
    "(1, 1, 0.1) (3, 4, 0.4) (4, 8, 0.8) (2, 10, 1)"
   ],
   "cell_type": "markdown",
   "metadata": {}
  },
  {
   "cell_type": "code",
   "execution_count": null,
   "metadata": {},
   "outputs": [],
   "source": [
    "def extra_enumerate(x):\n",
    "    cum = 0\n",
    "    frac = 0\n",
    "    sum = 0\n",
    "    for i in x:\n",
    "        sum += i\n",
    "    for i in x:\n",
    "        cum += i\n",
    "        frac = cum / sum\n",
    "        yield (x.index(i), i, cum, frac)\n",
    "\n",
    "x = [1, 3, 4, 2]\n",
    "for i, elem, cum, frac in extra_enumerate(x):\n",
    "    print(elem, cum, frac)"
   ]
  },
  {
   "source": [
    "апишите декоратор non_empty, который дополнительно проверяет списковый результат любой функции: если в нем содержатся пустые строки или значение None, то они удаляются. Пример кода:\n",
    "@non_empty\n",
    "\n",
    "def get_pages():\n",
    "\n",
    "return ['chapter1', '', 'contents', '', 'line1']"
   ],
   "cell_type": "markdown",
   "metadata": {}
  },
  {
   "cell_type": "code",
   "execution_count": null,
   "metadata": {},
   "outputs": [],
   "source": [
    "def non_empty(func):\n",
    "    def wrapper():\n",
    "        return [x for x in func() if x != None and x != '']\n",
    "    return wrapper\n",
    "\n",
    "@non_empty\n",
    "def get_pages():\n",
    "    return ['chapter1', '', 'contents', '', 'line1', None]\n",
    "\n",
    "print(get_pages())"
   ]
  },
  {
   "source": [
    "Напишите параметризированный декоратор pre_process, который осуществляет предварительную обработку (цифровую фильтрацию) списка по алгоритму: s[i] = s[i]–a∙s[i–1]. Параметр а можно задать в коде (по умолчанию равен 0.97). Пример кода:\n",
    "@pre_process(a=0.93)\n",
    "\n",
    "def plot_signal(s):\n",
    "\n",
    "for sample in s:\n",
    "\n",
    "print(sample)"
   ],
   "cell_type": "markdown",
   "metadata": {}
  },
  {
   "cell_type": "code",
   "execution_count": null,
   "metadata": {},
   "outputs": [],
   "source": [
    "def pre_process(a = 0.97):\n",
    "    def process(func):\n",
    "        def wrapper(s):\n",
    "            return [round(s[i] - a * s[i-1], 2) for i in range(len(s))]\n",
    "        return wrapper\n",
    "    return process\n",
    "\n",
    "s = [1, 2, 3, 4, 5]\n",
    "\n",
    "@pre_process(a=0.93)\n",
    "def plot_signal(s):\n",
    "    for sample in s:\n",
    "        print(sample)\n",
    "\n",
    "plot_signal(s)"
   ]
  },
  {
   "source": [
    "Напишите скрипт, который на основе списка из 16 названий футбольных команд случайным образом формирует 4 группы по 4 команды, а также выводит на консоль календарь всех игр (игры должны проходить по средам, раз в 2 недели, начиная с 14 сентября текущего года). Даты игр необходимо выводить в формате «14/09/2016, 22:45». Используйте модули random и itertools."
   ],
   "cell_type": "markdown",
   "metadata": {}
  },
  {
   "cell_type": "code",
   "execution_count": null,
   "metadata": {},
   "outputs": [],
   "source": [
    "import random\n",
    "import itertools\n",
    "import datetime\n",
    "\n",
    "def generate_schedule(_list):\n",
    "    random.shuffle(_list)\n",
    "\n",
    "    groups = [(_list[i] for i in range(4)), (_list[i] for i in range(4, 8)),\n",
    "              (_list[i] for i in range(8, 12)), (_list[i] for i in range(12, 16))]\n",
    "\n",
    "    time = datetime.datetime(2021, 9, 15, 12, 00, 1)\n",
    "\n",
    "    for i, teams in enumerate(groups):\n",
    "        print(f'{i + 1} группа:')\n",
    "        for team in itertools.combinations(teams, 2):\n",
    "            print(' - '.join(team) + ' - ' + time.strftime('%d/%m/%Y, %H:%M'))\n",
    "            time += datetime.timedelta(days=14, hours=random.randrange(9, 24), minutes=random.randrange(0, 60, 5))\n",
    "\n",
    "\n",
    "teams = ['Барселона', 'Милан', 'Ювентус', 'Бавария', 'Ливерпуль', 'Интер', 'Марсель', 'Арсенал', 'Челси', 'Лион', 'Спартак', 'Динамо', 'Аякс', 'Зенит', 'Бешикташ', 'Шахтёр']\n",
    "\n",
    "generate_schedule(teams)"
   ]
  }
 ]
}