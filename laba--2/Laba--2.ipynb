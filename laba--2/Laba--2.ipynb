{
 "metadata": {
  "language_info": {
   "codemirror_mode": {
    "name": "ipython",
    "version": 3
   },
   "file_extension": ".py",
   "mimetype": "text/x-python",
   "name": "python",
   "nbconvert_exporter": "python",
   "pygments_lexer": "ipython3",
   "version": "3.9.2"
  },
  "orig_nbformat": 2,
  "kernelspec": {
   "name": "python392jvsc74a57bd0311928590338b98a50e9267111050262cd48f87d72174feb4c6d15b1e8ef4889",
   "display_name": "Python 3.9.2 64-bit"
  },
  "metadata": {
   "interpreter": {
    "hash": "311928590338b98a50e9267111050262cd48f87d72174feb4c6d15b1e8ef4889"
   }
  }
 },
 "nbformat": 4,
 "nbformat_minor": 2,
 "cells": [
  {
   "source": [
    "1. Напишите скрипт, который читает текстовый файл и выводит символы\n",
    "в порядке убывания частоты встречаемости в тексте. Регистр символа\n",
    "не имеет значения. Программа должна учитывать только буквенные\n",
    "символы (символы пунктуации, цифры и служебные символы слудет\n",
    "игнорировать). Проверьте работу скрипта на нескольких файлах с\n",
    "текстом на английском и русском языках, сравните результаты с\n",
    "таблицами, приведенными в wikipedia.org/wiki/Letter_frequencies."
   ],
   "cell_type": "markdown",
   "metadata": {}
  },
  {
   "cell_type": "code",
   "execution_count": 1,
   "metadata": {},
   "outputs": [
    {
     "output_type": "stream",
     "name": "stdout",
     "text": [
      "н  -  8\nт  -  6\nо  -  6\nи  -  6\nс  -  5\nе  -  5\nа  -  5\nв  -  4\nз  -  2\nр  -  2\nк  -  2\nь  -  1\nл  -  1\nб  -  1\nй  -  1\nп  -  1\nу  -  1\nм  -  1\nш  -  1\nя  -  1\nг  -  1\nч  -  1\n"
     ]
    }
   ],
   "source": [
    "f = open('laba/rus.txt', 'r', encoding = 'utf-8')\n",
    "text = f.read()\n",
    "letters = dict.fromkeys(set(list(text.lower())), 0)\n",
    "for letter in letters:\n",
    "    if letter.isalpha():\n",
    "        letters[letter] = text.casefold().count(letter)\n",
    "letters_list = list(letters.items())\n",
    "letters_list.sort(key = lambda i: i[1], reverse = True)\n",
    "for letter in letters_list:\n",
    "    if letter[0].isalpha():\n",
    "        print(letter[0], ' - ', letter[1])\n",
    "f.close()"
   ]
  },
  {
   "source": [
    "2. Напишите скрипт, позволяющий искать в заданной директории и в ее\n",
    "подпапках файлы-дубликаты на основе сравнения контрольных сумм\n",
    "(MD5). Файлы могут иметь одинаковое содержимое, но отличаться\n",
    "именами. Скрипт должен вывести группы имен обнаруженных файлов-дубликатов."
   ],
   "cell_type": "markdown",
   "metadata": {}
  },
  {
   "cell_type": "code",
   "execution_count": 2,
   "metadata": {},
   "outputs": [
    {
     "output_type": "stream",
     "name": "stdout",
     "text": [
      "c:\\Users\\Сашок\\Desktop\\laba--2\\laba\\rus.txt, c:\\Users\\Сашок\\Desktop\\laba--2\\laba\\laba1\\rus — копия (2).txt, c:\\Users\\Сашок\\Desktop\\laba--2\\laba\\laba1\\rus.txt \n\n"
     ]
    }
   ],
   "source": [
    "import hashlib\n",
    "files = [src + '\\\\' + file_ for src, dir_, files in os.walk(os.getcwd() + '\\\\laba') for file_ in files]\n",
    "dict_ = {}\n",
    "for file_ in files:\n",
    "    with open(file_, 'r', encoding = 'utf-8') as f:\n",
    "        content = f.read()\n",
    "    file_hash = hashlib.md5(content.encode('utf-8')).hexdigest()\n",
    "    if file_hash in dict_:\n",
    "        dict_[file_hash] += ', ' + file_\n",
    "    else:\n",
    "        dict_[file_hash] = file_\n",
    "for file_ in dict_:\n",
    "    if ',' in dict_[file_]:\n",
    "        print(dict_[file_], '\\n')"
   ]
  },
  {
   "source": [
    "3. Задан путь к директории с музыкальными файлами (в названии\n",
    "которых нет номеров, а только названия песен) и текстовый файл,\n",
    "хранящий полный список песен с номерами и названиями в виде строк\n",
    "формата «01. Freefall [6:12]». Напишите скрипт, который корректирует\n",
    "имена файлов в директории на основе текста списка песен."
   ],
   "cell_type": "markdown",
   "metadata": {}
  },
  {
   "cell_type": "code",
   "execution_count": 3,
   "metadata": {},
   "outputs": [
    {
     "output_type": "stream",
     "name": "stdout",
     "text": [
      "[\"c:\\\\Users\\\\Сашок\\\\Desktop\\\\laba--2\\\\music\\\\1.The Killers - All These Things That I've Done .mp3\", 'c:\\\\Users\\\\Сашок\\\\Desktop\\\\laba--2\\\\music\\\\2.The Killers - Bones.mp3', 'c:\\\\Users\\\\Сашок\\\\Desktop\\\\laba--2\\\\music\\\\3.The Killers - Change Your Mind.mp3', 'c:\\\\Users\\\\Сашок\\\\Desktop\\\\laba--2\\\\music\\\\4.The Killers - Four Winds.mp3', 'c:\\\\Users\\\\Сашок\\\\Desktop\\\\laba--2\\\\music\\\\5.The Killers - Glamorous Indie Rock.mp3', 'c:\\\\Users\\\\Сашок\\\\Desktop\\\\laba--2\\\\music\\\\6.The Meto - Метагерой.mp3', 'c:\\\\Users\\\\Сашок\\\\Desktop\\\\laba--2\\\\music\\\\7.The Meto - Нас здесь нет.mp3', 'c:\\\\Users\\\\Сашок\\\\Desktop\\\\laba--2\\\\music\\\\8.The Meto - Разлом.mp3', 'c:\\\\Users\\\\Сашок\\\\Desktop\\\\laba--2\\\\music\\\\9.Йорш - Андерграунд.mp3'] \n\n[\"c:\\\\Users\\\\Сашок\\\\Desktop\\\\laba--2\\\\music\\\\1.The Killers - All These Things That I've Done .mp3\", 'c:\\\\Users\\\\Сашок\\\\Desktop\\\\laba--2\\\\music\\\\2.The Killers - Bones.mp3', 'c:\\\\Users\\\\Сашок\\\\Desktop\\\\laba--2\\\\music\\\\3.The Killers - Change Your Mind.mp3', 'c:\\\\Users\\\\Сашок\\\\Desktop\\\\laba--2\\\\music\\\\4.The Killers - Four Winds.mp3', 'c:\\\\Users\\\\Сашок\\\\Desktop\\\\laba--2\\\\music\\\\5.The Killers - Glamorous Indie Rock.mp3', 'c:\\\\Users\\\\Сашок\\\\Desktop\\\\laba--2\\\\music\\\\6.The Meto - Метагерой.mp3', 'c:\\\\Users\\\\Сашок\\\\Desktop\\\\laba--2\\\\music\\\\7.The Meto - Нас здесь нет.mp3', 'c:\\\\Users\\\\Сашок\\\\Desktop\\\\laba--2\\\\music\\\\8.The Meto - Разлом.mp3', 'c:\\\\Users\\\\Сашок\\\\Desktop\\\\laba--2\\\\music\\\\9.Йорш - Андерграунд.mp3']\n"
     ]
    }
   ],
   "source": [
    "from os import path\n",
    "\n",
    "files = [src + '\\\\' + file_ for src, dir_, files in os.walk(os.getcwd() + '\\\\music') for file_ in files if file_.endswith('.mp3')]\n",
    "print(files, '\\n')\n",
    "f = open('music\\\\music.txt', 'r', encoding = 'utf-8')\n",
    "txt = [line.rstrip('\\n') for line in f]\n",
    "index = 0\n",
    "for line in txt:\n",
    "    name = path.splitext(path.basename(files[index]))[0]\n",
    "    if name in line:\n",
    "        os.rename(f'music\\\\{name}.mp3', f'music\\\\{line}.mp3')\n",
    "    index += 1\n",
    "files = [src + '\\\\' + file_ for src, dir_, files in os.walk(os.getcwd() + '\\\\music') for file_ in files if file_.endswith('.mp3')]\n",
    "print(files)\n",
    "f.close()"
   ]
  },
  {
   "source": [
    "4. Напишите скрипт, который позволяет ввести с клавиатуры имя\n",
    "текстового файла, найти в нем с помощью регулярных выражений все\n",
    "подстроки определенного вида, в соответствии с вариантом.\n",
    "Вариант 2: Найдите все значения времени - подстроки види \"23:15:59\""
   ],
   "cell_type": "markdown",
   "metadata": {}
  },
  {
   "cell_type": "code",
   "execution_count": 5,
   "metadata": {},
   "outputs": [
    {
     "output_type": "stream",
     "name": "stdout",
     "text": [
      "['23:54:29', '23:54:28', '23:54:27', '23:54:26', '23:54:25']\n"
     ]
    }
   ],
   "source": [
    "import re\n",
    "smiles = re.compile(r'[0-9]{2}[:-][0-9]{2}[:-][0-9]{2}')\n",
    "name = input(\"Type file name: \")\n",
    "f = open(f'laba\\\\{name}.txt', 'r', encoding = 'utf-8')\n",
    "text = f.read()\n",
    "print(re.findall(smiles, text))\n",
    "f.close()"
   ]
  },
  {
   "source": [
    "5. Введите с клавиатуры текст. Программно найдите в нем и выведите\n",
    "отдельно все слова, которые начинаются с большого латинского\n",
    "символа (от A до Z) и заканчиваются 2 или 4 цифрами, например\n",
    "«Petr93», «Johnny70», «Service2002». Используйте регулярные\n",
    "выражения."
   ],
   "cell_type": "markdown",
   "metadata": {}
  },
  {
   "cell_type": "code",
   "execution_count": null,
   "metadata": {},
   "outputs": [],
   "source": [
    "import re\n",
    "#Saimon2414 addy444 V35 Giant1 Petr33515 PRESS242\n",
    "regex = re.compile(r'\\b[A-Z][a-z]*\\d{2,4}\\b')\n",
    "text = input(\"Enter text: \")\n",
    "print(re.findall(regex, text))"
   ]
  }
 ]
}